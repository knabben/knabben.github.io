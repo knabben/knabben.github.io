{
 "cells": [
  {
   "cell_type": "code",
   "execution_count": 6,
   "metadata": {},
   "outputs": [
    {
     "name": "stdout",
     "output_type": "stream",
     "text": [
      "---\n",
      "antrea 1451.601\n",
      "---\n",
      "|     time | failed   | name                                                                                                                                                  |\n",
      "|---------:|:---------|:------------------------------------------------------------------------------------------------------------------------------------------------------|\n",
      "|  41.3918 |          | should allow egress access on one named port [Feature:NetworkPolicy]                                                                                  |\n",
      "|  38.7032 |          | should allow egress access to server in CIDR block [Feature:NetworkPolicy]                                                                            |\n",
      "|  43.072  |          | should allow ingress access from namespace on one named port [Feature:NetworkPolicy]                                                                  |\n",
      "|  43.149  |          | should allow ingress access from updated namespace [Feature:NetworkPolicy]                                                                            |\n",
      "|  41.0726 |          | should allow ingress access from updated pod [Feature:NetworkPolicy]                                                                                  |\n",
      "|  44.5425 |          | should allow ingress access on one named port [Feature:NetworkPolicy]                                                                                 |\n",
      "|  43.6281 |          | should deny ingress access to updated pod [Feature:NetworkPolicy]                                                                                     |\n",
      "|  43.2286 |          | should enforce egress policy allowing traffic to a server in a different namespace based on PodSelector and NamespaceSelector [Feature:NetworkPolicy] |\n",
      "|  36.7815 |          | should enforce except clause while egress access to server in CIDR block [Feature:NetworkPolicy]                                                      |\n",
      "|  42.8188 |          | should enforce multiple egress policies with egress allow-all policy taking precedence [Feature:NetworkPolicy]                                        |\n",
      "|  54.6405 | *failed* | should enforce multiple ingress policies with ingress allow-all policy taking precedence [Feature:NetworkPolicy]                                      |\n",
      "|  59.7764 | *failed* | should enforce multiple, stacked policies with overlapping podSelectors [Feature:NetworkPolicy]                                                       |\n",
      "|  43.7333 |          | should enforce policies to check ingress and egress policies can be controlled independently based on PodSelector [Feature:NetworkPolicy]             |\n",
      "|  38.2669 |          | should enforce policy based on Multiple PodSelectors and NamespaceSelectors [Feature:NetworkPolicy]                                                   |\n",
      "|  37.9143 |          | should enforce policy based on NamespaceSelector with MatchExpressions[Feature:NetworkPolicy]                                                         |\n",
      "|  43.8143 |          | should enforce policy based on PodSelector and NamespaceSelector [Feature:NetworkPolicy]                                                              |\n",
      "|  37.8272 |          | should enforce policy based on PodSelector or NamespaceSelector [Feature:NetworkPolicy]                                                               |\n",
      "|  38.5747 |          | should enforce policy based on PodSelector with MatchExpressions[Feature:NetworkPolicy]                                                               |\n",
      "|  36.7824 |          | should enforce policy based on Ports [Feature:NetworkPolicy]                                                                                          |\n",
      "|  38.2507 |          | should enforce policy to allow traffic from pods within server namespace based on PodSelector [Feature:NetworkPolicy]                                 |\n",
      "|  38.7376 |          | should enforce policy to allow traffic only from a different namespace, based on NamespaceSelector [Feature:NetworkPolicy]                            |\n",
      "|  37.2833 |          | should enforce policy to allow traffic only from a pod in a different namespace based on PodSelector and NamespaceSelector [Feature:NetworkPolicy]    |\n",
      "|  49.4517 | *failed* | should enforce updated policy [Feature:NetworkPolicy]                                                                                                 |\n",
      "|  43.1706 |          | should ensure an IP overlapping both IPBlock.CIDR and IPBlock.Except is allowed [Feature:NetworkPolicy]                                               |\n",
      "|  37.1481 |          | should not allow access by TCP when a policy specifies only SCTP [Feature:NetworkPolicy] [Feature:SCTP]                                               |\n",
      "|  38.1034 |          | should not allow access by TCP when a policy specifies only UDP [Feature:NetworkPolicy] [Feature:UDP]                                                 |\n",
      "| 189.733  |          | should stop enforcing policies after they are deleted [Feature:NetworkPolicy]                                                                         |\n",
      "|  39.0466 |          | should support a &#x27;default-deny-all&#x27; policy [Feature:NetworkPolicy]                                                                          |\n",
      "|  44.9421 | *failed* | should support a &#x27;default-deny-ingress&#x27; policy [Feature:NetworkPolicy]                                                                      |\n",
      "|  41.5988 |          | should support allow-all policy [Feature:NetworkPolicy]                                                                                               |\n",
      "|  44.2273 |          | should work with Ingress, Egress specified together [Feature:NetworkPolicy]                                                                           |\n",
      "---\n",
      "cilium 1370.553\n",
      "---\n",
      "|     time | failed   | name                                                                                                                                                  |\n",
      "|---------:|:---------|:------------------------------------------------------------------------------------------------------------------------------------------------------|\n",
      "|  43.7662 |          | should allow egress access on one named port [Feature:NetworkPolicy]                                                                                  |\n",
      "|  43.4651 | *failed* | should allow egress access to server in CIDR block [Feature:NetworkPolicy]                                                                            |\n",
      "|  43.7539 |          | should allow ingress access from namespace on one named port [Feature:NetworkPolicy]                                                                  |\n",
      "|  50.204  | *failed* | should allow ingress access from updated namespace [Feature:NetworkPolicy]                                                                            |\n",
      "|  48.8958 | *failed* | should allow ingress access from updated pod [Feature:NetworkPolicy]                                                                                  |\n",
      "|  43.9659 |          | should allow ingress access on one named port [Feature:NetworkPolicy]                                                                                 |\n",
      "|  46.3589 | *failed* | should deny ingress access to updated pod [Feature:NetworkPolicy]                                                                                     |\n",
      "|  36.8897 |          | should enforce egress policy allowing traffic to a server in a different namespace based on PodSelector and NamespaceSelector [Feature:NetworkPolicy] |\n",
      "|  44.3379 | *failed* | should enforce except clause while egress access to server in CIDR block [Feature:NetworkPolicy]                                                      |\n",
      "|  40.0372 |          | should enforce multiple egress policies with egress allow-all policy taking precedence [Feature:NetworkPolicy]                                        |\n",
      "|  43.7602 |          | should enforce multiple ingress policies with ingress allow-all policy taking precedence [Feature:NetworkPolicy]                                      |\n",
      "|  52.7325 |          | should enforce multiple, stacked policies with overlapping podSelectors [Feature:NetworkPolicy]                                                       |\n",
      "|  42.2191 |          | should enforce policies to check ingress and egress policies can be controlled independently based on PodSelector [Feature:NetworkPolicy]             |\n",
      "|  38.8015 |          | should enforce policy based on Multiple PodSelectors and NamespaceSelectors [Feature:NetworkPolicy]                                                   |\n",
      "|  36.4353 |          | should enforce policy based on NamespaceSelector with MatchExpressions[Feature:NetworkPolicy]                                                         |\n",
      "|  39.2781 |          | should enforce policy based on PodSelector and NamespaceSelector [Feature:NetworkPolicy]                                                              |\n",
      "|  38.684  |          | should enforce policy based on PodSelector or NamespaceSelector [Feature:NetworkPolicy]                                                               |\n",
      "|  39.2452 |          | should enforce policy based on PodSelector with MatchExpressions[Feature:NetworkPolicy]                                                               |\n",
      "|  39.326  |          | should enforce policy based on Ports [Feature:NetworkPolicy]                                                                                          |\n",
      "|  38.603  |          | should enforce policy to allow traffic from pods within server namespace based on PodSelector [Feature:NetworkPolicy]                                 |\n",
      "|  39.2863 |          | should enforce policy to allow traffic only from a different namespace, based on NamespaceSelector [Feature:NetworkPolicy]                            |\n",
      "|  39.1103 |          | should enforce policy to allow traffic only from a pod in a different namespace based on PodSelector and NamespaceSelector [Feature:NetworkPolicy]    |\n",
      "|  40.9576 |          | should enforce updated policy [Feature:NetworkPolicy]                                                                                                 |\n",
      "|  41.2865 | *failed* | should ensure an IP overlapping both IPBlock.CIDR and IPBlock.Except is allowed [Feature:NetworkPolicy]                                               |\n",
      "|  42.2095 | *failed* | should not allow access by TCP when a policy specifies only SCTP [Feature:NetworkPolicy] [Feature:SCTP]                                               |\n",
      "|  37.474  |          | should not allow access by TCP when a policy specifies only UDP [Feature:NetworkPolicy] [Feature:UDP]                                                 |\n",
      "| 112.803  |          | should stop enforcing policies after they are deleted [Feature:NetworkPolicy]                                                                         |\n",
      "|  41.3663 |          | should support a &#x27;default-deny-all&#x27; policy [Feature:NetworkPolicy]                                                                          |\n",
      "|  39.0023 |          | should support a &#x27;default-deny-ingress&#x27; policy [Feature:NetworkPolicy]                                                                      |\n",
      "|  42.1974 |          | should support allow-all policy [Feature:NetworkPolicy]                                                                                               |\n",
      "|  43.8719 |          | should work with Ingress, Egress specified together [Feature:NetworkPolicy]                                                                           |\n"
     ]
    },
    {
     "name": "stdout",
     "output_type": "stream",
     "text": [
      "---\n",
      "calico 1324.684\n",
      "---\n",
      "|     time | failed   | name                                                                                                                                                  |\n",
      "|---------:|:---------|:------------------------------------------------------------------------------------------------------------------------------------------------------|\n",
      "|  35.8095 |          | should allow egress access on one named port [Feature:NetworkPolicy]                                                                                  |\n",
      "|  34.0198 |          | should allow egress access to server in CIDR block [Feature:NetworkPolicy]                                                                            |\n",
      "|  38.3741 |          | should allow ingress access from namespace on one named port [Feature:NetworkPolicy]                                                                  |\n",
      "|  42.5764 |          | should allow ingress access from updated namespace [Feature:NetworkPolicy]                                                                            |\n",
      "|  72.1853 |          | should allow ingress access from updated pod [Feature:NetworkPolicy]                                                                                  |\n",
      "|  44.9761 |          | should allow ingress access on one named port [Feature:NetworkPolicy]                                                                                 |\n",
      "|  37.9649 |          | should deny ingress access to updated pod [Feature:NetworkPolicy]                                                                                     |\n",
      "|  37.2776 |          | should enforce egress policy allowing traffic to a server in a different namespace based on PodSelector and NamespaceSelector [Feature:NetworkPolicy] |\n",
      "|  34.4918 |          | should enforce except clause while egress access to server in CIDR block [Feature:NetworkPolicy]                                                      |\n",
      "|  42.5749 |          | should enforce multiple egress policies with egress allow-all policy taking precedence [Feature:NetworkPolicy]                                        |\n",
      "|  39.7623 |          | should enforce multiple ingress policies with ingress allow-all policy taking precedence [Feature:NetworkPolicy]                                      |\n",
      "|  45.2768 |          | should enforce multiple, stacked policies with overlapping podSelectors [Feature:NetworkPolicy]                                                       |\n",
      "|  37.146  |          | should enforce policies to check ingress and egress policies can be controlled independently based on PodSelector [Feature:NetworkPolicy]             |\n",
      "|  39.3511 |          | should enforce policy based on Multiple PodSelectors and NamespaceSelectors [Feature:NetworkPolicy]                                                   |\n",
      "|  34.7001 |          | should enforce policy based on NamespaceSelector with MatchExpressions[Feature:NetworkPolicy]                                                         |\n",
      "|  35.1533 |          | should enforce policy based on PodSelector and NamespaceSelector [Feature:NetworkPolicy]                                                              |\n",
      "|  35.1159 |          | should enforce policy based on PodSelector or NamespaceSelector [Feature:NetworkPolicy]                                                               |\n",
      "|  41.341  |          | should enforce policy based on PodSelector with MatchExpressions[Feature:NetworkPolicy]                                                               |\n",
      "|  38.4367 |          | should enforce policy based on Ports [Feature:NetworkPolicy]                                                                                          |\n",
      "|  56.606  |          | should enforce policy to allow traffic from pods within server namespace based on PodSelector [Feature:NetworkPolicy]                                 |\n",
      "|  35.0263 |          | should enforce policy to allow traffic only from a different namespace, based on NamespaceSelector [Feature:NetworkPolicy]                            |\n",
      "|  39.1988 |          | should enforce policy to allow traffic only from a pod in a different namespace based on PodSelector and NamespaceSelector [Feature:NetworkPolicy]    |\n",
      "|  38.3293 |          | should enforce updated policy [Feature:NetworkPolicy]                                                                                                 |\n",
      "|  38.7177 |          | should ensure an IP overlapping both IPBlock.CIDR and IPBlock.Except is allowed [Feature:NetworkPolicy]                                               |\n",
      "|  42.6838 | *failed* | should not allow access by TCP when a policy specifies only SCTP [Feature:NetworkPolicy] [Feature:SCTP]                                               |\n",
      "|  33.4298 |          | should not allow access by TCP when a policy specifies only UDP [Feature:NetworkPolicy] [Feature:UDP]                                                 |\n",
      "| 108.302  |          | should stop enforcing policies after they are deleted [Feature:NetworkPolicy]                                                                         |\n",
      "|  41.1466 |          | should support a &#x27;default-deny-all&#x27; policy [Feature:NetworkPolicy]                                                                          |\n",
      "|  38.3876 |          | should support a &#x27;default-deny-ingress&#x27; policy [Feature:NetworkPolicy]                                                                      |\n",
      "|  41.9732 |          | should support allow-all policy [Feature:NetworkPolicy]                                                                                               |\n",
      "|  44.1808 |          | should work with Ingress, Egress specified together [Feature:NetworkPolicy]                                                                           |\n",
      "---\n",
      "nocni 1093.335\n",
      "---\n",
      "|    time | failed   | name                                                                                                                                                  |\n",
      "|--------:|:---------|:------------------------------------------------------------------------------------------------------------------------------------------------------|\n",
      "| 36.8562 | *failed* | should allow egress access on one named port [Feature:NetworkPolicy]                                                                                  |\n",
      "| 37.117  | *failed* | should allow egress access to server in CIDR block [Feature:NetworkPolicy]                                                                            |\n",
      "| 33.6975 | *failed* | should allow ingress access from namespace on one named port [Feature:NetworkPolicy]                                                                  |\n",
      "| 37.4686 | *failed* | should allow ingress access from updated namespace [Feature:NetworkPolicy]                                                                            |\n",
      "| 32.0948 | *failed* | should allow ingress access from updated pod [Feature:NetworkPolicy]                                                                                  |\n",
      "| 36.5492 | *failed* | should allow ingress access on one named port [Feature:NetworkPolicy]                                                                                 |\n",
      "| 36.3705 | *failed* | should deny ingress access to updated pod [Feature:NetworkPolicy]                                                                                     |\n",
      "| 37.9346 | *failed* | should enforce egress policy allowing traffic to a server in a different namespace based on PodSelector and NamespaceSelector [Feature:NetworkPolicy] |\n",
      "| 33.477  | *failed* | should enforce except clause while egress access to server in CIDR block [Feature:NetworkPolicy]                                                      |\n",
      "| 33.6098 | *failed* | should enforce multiple egress policies with egress allow-all policy taking precedence [Feature:NetworkPolicy]                                        |\n",
      "| 38.2607 | *failed* | should enforce multiple ingress policies with ingress allow-all policy taking precedence [Feature:NetworkPolicy]                                      |\n",
      "| 33.4111 | *failed* | should enforce multiple, stacked policies with overlapping podSelectors [Feature:NetworkPolicy]                                                       |\n",
      "| 36.2295 | *failed* | should enforce policies to check ingress and egress policies can be controlled independently based on PodSelector [Feature:NetworkPolicy]             |\n",
      "| 31.8398 | *failed* | should enforce policy based on Multiple PodSelectors and NamespaceSelectors [Feature:NetworkPolicy]                                                   |\n",
      "| 33.3985 | *failed* | should enforce policy based on NamespaceSelector with MatchExpressions[Feature:NetworkPolicy]                                                         |\n",
      "| 33.3989 | *failed* | should enforce policy based on PodSelector and NamespaceSelector [Feature:NetworkPolicy]                                                              |\n",
      "| 32.5186 | *failed* | should enforce policy based on PodSelector or NamespaceSelector [Feature:NetworkPolicy]                                                               |\n",
      "| 33.3631 | *failed* | should enforce policy based on PodSelector with MatchExpressions[Feature:NetworkPolicy]                                                               |\n",
      "| 32.8972 | *failed* | should enforce policy based on Ports [Feature:NetworkPolicy]                                                                                          |\n",
      "| 32.2191 | *failed* | should enforce policy to allow traffic from pods within server namespace based on PodSelector [Feature:NetworkPolicy]                                 |\n",
      "| 38.2643 | *failed* | should enforce policy to allow traffic only from a different namespace, based on NamespaceSelector [Feature:NetworkPolicy]                            |\n",
      "| 33.6517 | *failed* | should enforce policy to allow traffic only from a pod in a different namespace based on PodSelector and NamespaceSelector [Feature:NetworkPolicy]    |\n",
      "| 40.643  | *failed* | should enforce updated policy [Feature:NetworkPolicy]                                                                                                 |\n",
      "| 32.9202 | *failed* | should ensure an IP overlapping both IPBlock.CIDR and IPBlock.Except is allowed [Feature:NetworkPolicy]                                               |\n",
      "| 42.4549 | *failed* | should not allow access by TCP when a policy specifies only SCTP [Feature:NetworkPolicy] [Feature:SCTP]                                               |\n",
      "| 37.3655 | *failed* | should not allow access by TCP when a policy specifies only UDP [Feature:NetworkPolicy] [Feature:UDP]                                                 |\n",
      "| 38.5486 | *failed* | should stop enforcing policies after they are deleted [Feature:NetworkPolicy]                                                                         |\n",
      "| 33.6928 | *failed* | should support a &#x27;default-deny-all&#x27; policy [Feature:NetworkPolicy]                                                                          |\n",
      "| 38.0615 | *failed* | should support a &#x27;default-deny-ingress&#x27; policy [Feature:NetworkPolicy]                                                                      |\n",
      "| 31.8662 |          | should support allow-all policy [Feature:NetworkPolicy]                                                                                               |\n",
      "| 32.9995 | *failed* | should work with Ingress, Egress specified together [Feature:NetworkPolicy]                                                                           |\n"
     ]
    }
   ],
   "source": [
    "import pandas as pd\n",
    "from junitparser import junitparser, JUnitXml\n",
    "\n",
    "for cni in [\"antrea\", \"cilium\", \"calico\", \"nocni\"]:\n",
    "    junit_path = f\"./output_{cni}/junit_01.xml\"\n",
    "    xml = JUnitXml.fromfile(junit_path)\n",
    "    payload = []\n",
    "    for element in xml:\n",
    "        if isinstance(element.result, junitparser.Skipped):\n",
    "            continue\n",
    "\n",
    "        has_failed = isinstance(element.result, junitparser.Failure)\n",
    "        payload.append(\n",
    "            {\n",
    "                \"time\": element.time,\n",
    "                \"failed\": \"*failed*\" if has_failed else \"\",\n",
    "                \"name\": element.name[72:],\n",
    "            }\n",
    "        )\n",
    "\n",
    "    df = pd.DataFrame(payload)\n",
    "    print(\"---\")\n",
    "    print(cni, xml.time)\n",
    "    print(\"---\")\n",
    "    \n",
    "    print(df.sort_values(\"name\").to_markdown(index=False))"
   ]
  },
  {
   "cell_type": "code",
   "execution_count": 50,
   "metadata": {},
   "outputs": [
    {
     "name": "stdout",
     "output_type": "stream",
     "text": [
      "Collecting tabulate\n",
      "  Downloading tabulate-0.8.7-py3-none-any.whl (24 kB)\n",
      "Installing collected packages: tabulate\n",
      "Successfully installed tabulate-0.8.7\n",
      "\u001b[33mWARNING: You are using pip version 20.1; however, version 20.3.3 is available.\n",
      "You should consider upgrading via the '/Users/amimknabben/.virtualenvs/iaxo/bin/python3.6 -m pip install --upgrade pip' command.\u001b[0m\n"
     ]
    }
   ],
   "source": [
    "!pip install tabulate"
   ]
  },
  {
   "cell_type": "code",
   "execution_count": 14,
   "metadata": {},
   "outputs": [
    {
     "name": "stdout",
     "output_type": "stream",
     "text": [
      "Automatic pdb calling has been turned ON\n"
     ]
    }
   ],
   "source": [
    "%pdb"
   ]
  },
  {
   "cell_type": "code",
   "execution_count": 16,
   "metadata": {},
   "outputs": [
    {
     "name": "stdout",
     "output_type": "stream",
     "text": [
      "<?xml version=\"1.0\" encoding=\"UTF-8\"?>\r\n",
      "  <testsuite name=\"Kubernetes e2e suite\" tests=\"31\" failures=\"4\" errors=\"0\" time=\"1451.601\">\r\n",
      "      <testcase name=\"[sig-storage] In-tree Volumes [Driver: vsphere] [Testpattern: Dynamic PV (ntfs)][sig-windows] subPath should support existing directory\" classname=\"Kubernetes e2e suite\" time=\"0\">\r\n",
      "          <skipped></skipped>\r\n",
      "      </testcase>\r\n",
      "      <testcase name=\"[sig-storage] In-tree Volumes [Driver: hostPathSymlink] [Testpattern: Dynamic PV (block volmode)] disruptive[Disruptive][LinuxOnly] Should test that pv used in a pod that is deleted while the kubelet is down cleans up when the kubelet returns.\" classname=\"Kubernetes e2e suite\" time=\"0\">\r\n",
      "          <skipped></skipped>\r\n",
      "      </testcase>\r\n",
      "      <testcase name=\"[sig-storage] CSI Volumes [Driver: pd.csi.storage.gke.io][Serial] [Testpattern: Inline-volume (ntfs)][sig-windows] volumes should allow exec of files on the volume\" classname=\"Kubernetes e2e suite\" time=\"0\">\r\n",
      "          <skipped></skipped>\r\n"
     ]
    }
   ],
   "source": [
    "!head ./output_antrea/junit_01.xml"
   ]
  },
  {
   "cell_type": "code",
   "execution_count": 58,
   "metadata": {},
   "outputs": [
    {
     "data": {
      "text/plain": [
       "72"
      ]
     },
     "execution_count": 58,
     "metadata": {},
     "output_type": "execute_result"
    }
   ],
   "source": [
    "len(\"[sig-network] Netpol [LinuxOnly] NetworkPolicy between server and client\")"
   ]
  },
  {
   "cell_type": "code",
   "execution_count": 65,
   "metadata": {},
   "outputs": [
    {
     "name": "stdout",
     "output_type": "stream",
     "text": [
      "Collecting pandas==1.1.5\n",
      "  Downloading pandas-1.1.5-cp36-cp36m-macosx_10_9_x86_64.whl (10.2 MB)\n",
      "\u001b[K     |████████████████████████████████| 10.2 MB 2.8 MB/s eta 0:00:01\n",
      "\u001b[?25hRequirement already satisfied: python-dateutil>=2.7.3 in /Users/amimknabben/.virtualenvs/iaxo/lib/python3.6/site-packages (from pandas==1.1.5) (2.8.1)\n",
      "Requirement already satisfied: numpy>=1.15.4 in /Users/amimknabben/.virtualenvs/iaxo/lib/python3.6/site-packages (from pandas==1.1.5) (1.19.0)\n",
      "Requirement already satisfied: pytz>=2017.2 in /Users/amimknabben/.virtualenvs/iaxo/lib/python3.6/site-packages (from pandas==1.1.5) (2019.3)\n",
      "Requirement already satisfied: six>=1.5 in /Users/amimknabben/.virtualenvs/iaxo/lib/python3.6/site-packages (from python-dateutil>=2.7.3->pandas==1.1.5) (1.15.0)\n",
      "Installing collected packages: pandas\n",
      "  Attempting uninstall: pandas\n",
      "    Found existing installation: pandas 1.1.0\n",
      "    Uninstalling pandas-1.1.0:\n",
      "      Successfully uninstalled pandas-1.1.0\n",
      "Successfully installed pandas-1.1.5\n",
      "\u001b[33mWARNING: You are using pip version 20.1; however, version 20.3.3 is available.\n",
      "You should consider upgrading via the '/Users/amimknabben/.virtualenvs/iaxo/bin/python3.6 -m pip install --upgrade pip' command.\u001b[0m\n"
     ]
    }
   ],
   "source": [
    "!pip install pandas==1.1.5"
   ]
  },
  {
   "cell_type": "code",
   "execution_count": 72,
   "metadata": {},
   "outputs": [
    {
     "data": {
      "text/plain": [
       "'1.0.5'"
      ]
     },
     "execution_count": 72,
     "metadata": {},
     "output_type": "execute_result"
    }
   ],
   "source": []
  },
  {
   "cell_type": "code",
   "execution_count": null,
   "metadata": {},
   "outputs": [],
   "source": []
  }
 ],
 "metadata": {
  "kernelspec": {
   "display_name": "Python 3",
   "language": "python",
   "name": "python3"
  },
  "language_info": {
   "codemirror_mode": {
    "name": "ipython",
    "version": 3
   },
   "file_extension": ".py",
   "mimetype": "text/x-python",
   "name": "python",
   "nbconvert_exporter": "python",
   "pygments_lexer": "ipython3",
   "version": "3.6.6"
  }
 },
 "nbformat": 4,
 "nbformat_minor": 2
}
